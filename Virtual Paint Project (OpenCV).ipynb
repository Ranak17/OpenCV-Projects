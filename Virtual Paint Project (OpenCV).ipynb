{
 "cells": [
  {
   "cell_type": "markdown",
   "metadata": {},
   "source": [
    "# Virtual Paint Project (OpenCV)"
   ]
  },
  {
   "cell_type": "code",
   "execution_count": 1,
   "metadata": {},
   "outputs": [
    {
     "ename": "KeyboardInterrupt",
     "evalue": "",
     "output_type": "error",
     "traceback": [
      "\u001b[1;31m---------------------------------------------------------------------------\u001b[0m",
      "\u001b[1;31mKeyboardInterrupt\u001b[0m                         Traceback (most recent call last)",
      "\u001b[1;32m<ipython-input-1-2ad983d2077f>\u001b[0m in \u001b[0;36m<module>\u001b[1;34m\u001b[0m\n\u001b[0;32m      4\u001b[0m \u001b[1;32mdef\u001b[0m \u001b[0mempty\u001b[0m\u001b[1;33m(\u001b[0m\u001b[0ma\u001b[0m\u001b[1;33m)\u001b[0m\u001b[1;33m:\u001b[0m\u001b[1;33m\u001b[0m\u001b[1;33m\u001b[0m\u001b[0m\n\u001b[0;32m      5\u001b[0m     \u001b[1;32mpass\u001b[0m\u001b[1;33m\u001b[0m\u001b[1;33m\u001b[0m\u001b[0m\n\u001b[1;32m----> 6\u001b[1;33m \u001b[0mcap\u001b[0m\u001b[1;33m=\u001b[0m\u001b[0mcv2\u001b[0m\u001b[1;33m.\u001b[0m\u001b[0mVideoCapture\u001b[0m\u001b[1;33m(\u001b[0m\u001b[1;34m\"http://26.159.20.114:8080/video\"\u001b[0m\u001b[1;33m)\u001b[0m\u001b[1;33m\u001b[0m\u001b[1;33m\u001b[0m\u001b[0m\n\u001b[0m\u001b[0;32m      7\u001b[0m \u001b[0mcap\u001b[0m\u001b[1;33m.\u001b[0m\u001b[0mset\u001b[0m\u001b[1;33m(\u001b[0m\u001b[1;36m3\u001b[0m\u001b[1;33m,\u001b[0m\u001b[1;36m1640\u001b[0m\u001b[1;33m)\u001b[0m\u001b[1;31m#width\u001b[0m\u001b[1;33m\u001b[0m\u001b[1;33m\u001b[0m\u001b[0m\n\u001b[0;32m      8\u001b[0m \u001b[0mcap\u001b[0m\u001b[1;33m.\u001b[0m\u001b[0mset\u001b[0m\u001b[1;33m(\u001b[0m\u001b[1;36m4\u001b[0m\u001b[1;33m,\u001b[0m\u001b[1;36m1640\u001b[0m\u001b[1;33m)\u001b[0m\u001b[1;31m#height\u001b[0m\u001b[1;33m\u001b[0m\u001b[1;33m\u001b[0m\u001b[0m\n",
      "\u001b[1;31mKeyboardInterrupt\u001b[0m: "
     ]
    }
   ],
   "source": [
    "# work for red and green markers\n",
    "import cv2\n",
    "import numpy as np\n",
    "import time\n",
    "def empty(a):\n",
    "    pass\n",
    "cap=cv2.VideoCapture(\"http://26.159.20.114:8080/video\")# use 0 for default webcam\n",
    "cap.set(3,1640)#width\n",
    "cap.set(4,1640)#height\n",
    "# cap.set(10,1)#brightne\n",
    "cv2.namedWindow(\"Trackbars\")\n",
    "cv2.resizeWindow(\"Trackbars\",640,300)\n",
    "cv2.createTrackbar(\"Hue Min\",\"Trackbars\",0,179,empty)\n",
    "cv2.createTrackbar(\"Hue Max\",\"Trackbars\",9,179,empty)\n",
    "cv2.createTrackbar(\"Sat Min\",\"Trackbars\",113,255,empty)\n",
    "cv2.createTrackbar(\"Sat Max\",\"Trackbars\",251,255,empty)\n",
    "cv2.createTrackbar(\"Val Min\",\"Trackbars\",157,255,empty)\n",
    "cv2.createTrackbar(\"Val Max\",\"Trackbars\",255,255,empty)\n",
    "mycolors=[[0,113,157,9,251,255],[36,55,139,156,255,255]]\n",
    "mycolorvalues=[[0,0,255],\n",
    "               [0,255,0],]\n",
    "mypoints=[]    #[x,y,colorId]\n",
    "\n",
    "\n",
    "        \n",
    "def get_contours(img,result_img):\n",
    "    contours,hierarchy=cv2.findContours(img,cv2.RETR_EXTERNAL,cv2.CHAIN_APPROX_NONE)\n",
    "    x,y,w,h=0,0,0,0\n",
    "    for cnt in contours:\n",
    "        area=cv2.contourArea(cnt)\n",
    "        if area>=500:\n",
    "#             cv2.drawContours(result_img,cnt,-1,(0,0,255),5)\n",
    "            peri=cv2.arcLength(cnt,True)\n",
    "            approx=cv2.approxPolyDP(cnt,0.02*peri,True)\n",
    "            x,y,w,h=cv2.boundingRect(approx)\n",
    "#             cv2.rectangle(result_img,(x,y),(x+w,y+h),5)\n",
    "    return x+w//2,y\n",
    "\n",
    "def find_colors(img,mycolors):\n",
    "    hsv_img=cv2.cvtColor(img,cv2.COLOR_BGR2HSV)\n",
    "    count=0\n",
    "    newPoints=[]\n",
    "    for color in mycolors:\n",
    "        lower=np.array(color[:3])\n",
    "        upper=np.array(color[3:])\n",
    "        mask=cv2.inRange(hsv_img,lower,upper)\n",
    "        cv2.imshow(\"mask\",mask)\n",
    "        x,y=get_contours(mask,img)\n",
    "        cv2.circle(result_img,(x,y),25,mycolorvalues[count],cv2.FILLED)\n",
    "        if x!=0 and y!=0:\n",
    "            newPoints.append([x,y,count])\n",
    "        count+=1\n",
    "    return newPoints\n",
    "#         cv2.imshow(str(color[0]),mask)                  \n",
    "\n",
    "def drawOnCanvas(mypoints,mycolorvalues):\n",
    "    for point in mypoints:\n",
    "        cv2.circle(result_img,(point[0],point[1]),25,mycolorvalues[point[2]],cv2.FILLED)\n",
    "        \n",
    "while True:\n",
    "    success,img=cap.read()\n",
    "    result_img=img.copy()\n",
    "    hsv_img=cv2.cvtColor(img,cv2.COLOR_BGR2HSV)\n",
    "    h_min=cv2.getTrackbarPos(\"Hue Min\",\"Trackbars\")\n",
    "    h_max=cv2.getTrackbarPos(\"Hue Max\",\"Trackbars\")\n",
    "    sat_min=cv2.getTrackbarPos(\"Sat Min\",\"Trackbars\")\n",
    "    sat_max=cv2.getTrackbarPos(\"Sat Max\",\"Trackbars\")\n",
    "    val_min=cv2.getTrackbarPos(\"Val Min\",\"Trackbars\")\n",
    "    val_max=cv2.getTrackbarPos(\"Val Max\",\"Trackbars\")\n",
    "    lower=np.array([h_min,sat_min,val_min])\n",
    "    upper=np.array([h_max,sat_max,val_max])\n",
    "    mask=cv2.inRange(hsv_img,lower,upper)\n",
    "#     cv2.imshow(\"mask\",mask)\n",
    "    newPoints=find_colors(result_img,mycolors)\n",
    "    if len(newPoints)!=0:\n",
    "        for newp in newPoints:\n",
    "            mypoints.append(newp)\n",
    "    if len(mypoints)!=0:\n",
    "        drawOnCanvas(mypoints,mycolorvalues)\n",
    "    cv2.imshow(\"result_image\",result_img)\n",
    "    if cv2.waitKey(1) & 0xFF ==ord('q'):\n",
    "        break\n",
    "cap.release()\n",
    "cv2.destroyAllWindows()"
   ]
  },
  {
   "cell_type": "code",
   "execution_count": null,
   "metadata": {},
   "outputs": [],
   "source": []
  }
 ],
 "metadata": {
  "kernelspec": {
   "display_name": "Python 3",
   "language": "python",
   "name": "python3"
  },
  "language_info": {
   "codemirror_mode": {
    "name": "ipython",
    "version": 3
   },
   "file_extension": ".py",
   "mimetype": "text/x-python",
   "name": "python",
   "nbconvert_exporter": "python",
   "pygments_lexer": "ipython3",
   "version": "3.8.3"
  }
 },
 "nbformat": 4,
 "nbformat_minor": 4
}
